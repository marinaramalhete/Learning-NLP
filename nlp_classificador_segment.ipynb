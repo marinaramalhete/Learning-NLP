{
 "cells": [
  {
   "cell_type": "markdown",
   "metadata": {},
   "source": [
    "## Aprendizado supervisionado - Classificação\n",
    "\n",
    "\n",
    "Objetivo: prever o segmento do produto dada as descrições do mesmo.\n",
    "\n",
    "Observações:\n",
    "- o seguinte notebook precisa ser enxergado como um passo a passo, para uso real, precisa ser melhorado\n",
    "- dados utilizados não disponíveis"
   ]
  },
  {
   "cell_type": "markdown",
   "metadata": {},
   "source": [
    "### Cronometra o tempo"
   ]
  },
  {
   "cell_type": "code",
   "execution_count": 1,
   "metadata": {},
   "outputs": [],
   "source": [
    "import time\n",
    "t2 = time.time()\n",
    "\n",
    "# t0 = time.time()\n",
    "# t1 = time.time()\n",
    "# print(\"Esse processo demorou %f segundos\" %(t1 - t0))"
   ]
  },
  {
   "cell_type": "markdown",
   "metadata": {},
   "source": [
    "### Importa bibliotecas/dependências"
   ]
  },
  {
   "cell_type": "code",
   "execution_count": 2,
   "metadata": {},
   "outputs": [],
   "source": [
    "import sys\n",
    "import psycopg2\n",
    "import pandas as pd\n",
    "import numpy as np\n",
    "\n",
    "import seaborn as sb\n",
    "import matplotlib as plt\n",
    "%matplotlib inline\n",
    "from wordcloud import WordCloud\n",
    "\n",
    "from pylab import *\n",
    "import re\n",
    "import string\n",
    "from html import unescape\n",
    "import unicodedata\n",
    "from bs4 import BeautifulSoup\n",
    "\n",
    "import nltk\n",
    "from nltk.stem.porter import *\n",
    "from nltk.corpus import stopwords\n",
    "\n",
    "from sklearn import preprocessing\n",
    "from sklearn.feature_extraction.text import TfidfVectorizer\n",
    "from sklearn.preprocessing import LabelEncoder\n",
    "from sklearn.model_selection import train_test_split\n",
    "from sklearn.ensemble import RandomForestClassifier\n",
    "from sklearn.metrics import f1_score\n",
    "from sklearn.model_selection import GridSearchCV\n",
    "from sklearn.metrics import mean_squared_error, precision_score\n",
    "from sklearn.tree import DecisionTreeClassifier\n",
    "from sklearn.model_selection import cross_val_score"
   ]
  },
  {
   "cell_type": "markdown",
   "metadata": {},
   "source": [
    "### Conecta ao banco\n",
    "Seleciona quais tabelas vão ser utilizadas:"
   ]
  },
  {
   "cell_type": "code",
   "execution_count": 3,
   "metadata": {},
   "outputs": [],
   "source": [
    "connection = psycopg2.connect(host='', dbname='', user='', password='')\n",
    "cursor = connection.cursor()\n",
    "cursor.execute('')\n",
    "futuro_df = cursor.fetchall()\n",
    "columns = [c[0] for c in cursor.description]\n",
    "connection.close()"
   ]
  },
  {
   "cell_type": "markdown",
   "metadata": {},
   "source": [
    "### Cria o data frame"
   ]
  },
  {
   "cell_type": "code",
   "execution_count": 4,
   "metadata": {},
   "outputs": [],
   "source": [
    "data_large = pd.DataFrame(futuro_df, columns=columns)"
   ]
  },
  {
   "cell_type": "markdown",
   "metadata": {},
   "source": [
    "### Cria uma copia do data frame data_large -> df_copy"
   ]
  },
  {
   "cell_type": "code",
   "execution_count": 5,
   "metadata": {},
   "outputs": [],
   "source": [
    "df_copy = data_large.copy()"
   ]
  },
  {
   "cell_type": "markdown",
   "metadata": {},
   "source": [
    "### Shape do data frame"
   ]
  },
  {
   "cell_type": "code",
   "execution_count": 6,
   "metadata": {},
   "outputs": [
    {
     "data": {
      "text/plain": [
       "(100000, 2)"
      ]
     },
     "execution_count": 6,
     "metadata": {},
     "output_type": "execute_result"
    }
   ],
   "source": [
    "df_copy.shape"
   ]
  },
  {
   "cell_type": "markdown",
   "metadata": {},
   "source": [
    "### Visualiza os segmentos presentes "
   ]
  },
  {
   "cell_type": "code",
   "execution_count": 7,
   "metadata": {
    "scrolled": true
   },
   "outputs": [
    {
     "data": {
      "text/plain": [
       "AUTOMOTIVO                       13648\n",
       "FASHION - CALÇADOS               10237\n",
       "INFORMATICA ACESSORIOS            4802\n",
       "FASHION - ROUPA MASCULINA         4406\n",
       "MÓVEIS - DECORAÇÃO                4231\n",
       "ESPORTE & LAZER                   3927\n",
       "FASHION - BOLSAS E ACESSORIOS     3228\n",
       "UTILIDADES DOMESTICAS             3199\n",
       "TELEFONIA                         3197\n",
       "LIVROS INTERESSE GERAL            2946\n",
       "Name: product.segment_nm, dtype: int64"
      ]
     },
     "execution_count": 7,
     "metadata": {},
     "output_type": "execute_result"
    }
   ],
   "source": [
    "df_copy[\"product.segment_nm\"].value_counts()[:10]"
   ]
  },
  {
   "cell_type": "markdown",
   "metadata": {},
   "source": [
    "### Limpeza dos dados"
   ]
  },
  {
   "cell_type": "code",
   "execution_count": 8,
   "metadata": {},
   "outputs": [],
   "source": [
    "t0 = time.time()"
   ]
  },
  {
   "cell_type": "markdown",
   "metadata": {},
   "source": [
    "#### Retira os valores ausentes das descriçoes e segmentos"
   ]
  },
  {
   "cell_type": "code",
   "execution_count": 9,
   "metadata": {},
   "outputs": [
    {
     "data": {
      "text/plain": [
       "sku_ds                0\n",
       "product.segment_nm    0\n",
       "dtype: int64"
      ]
     },
     "execution_count": 9,
     "metadata": {},
     "output_type": "execute_result"
    }
   ],
   "source": [
    "df_copy = df_copy[df_copy['sku_ds'].notnull()]\n",
    "df_copy = df_copy[df_copy['product.segment_nm'].notnull()]\n",
    "df_copy.isnull().sum()"
   ]
  },
  {
   "cell_type": "markdown",
   "metadata": {},
   "source": [
    "#### Reseta o index\n",
    "Para evitar possíveis erros futuros"
   ]
  },
  {
   "cell_type": "code",
   "execution_count": 10,
   "metadata": {},
   "outputs": [],
   "source": [
    "df_copy = df_copy.reset_index(drop=True)"
   ]
  },
  {
   "cell_type": "markdown",
   "metadata": {},
   "source": [
    "#### Acrescenta a coluna com os dados limpos no data frame"
   ]
  },
  {
   "cell_type": "code",
   "execution_count": 11,
   "metadata": {},
   "outputs": [],
   "source": [
    "df_copy['sku_ds_clean'] = (df_copy['sku_ds'])"
   ]
  },
  {
   "cell_type": "markdown",
   "metadata": {},
   "source": [
    "#### Remove html de strings"
   ]
  },
  {
   "cell_type": "code",
   "execution_count": 12,
   "metadata": {},
   "outputs": [],
   "source": [
    "def limpa_html(texto):\n",
    "    soup = BeautifulSoup(unescape(texto), 'lxml')\n",
    "    text_clean = soup.get_text(\" \").strip()\n",
    "    text_mais_clean = unicodedata.normalize(\"NFKC\", text_clean)\n",
    "    return text_mais_clean"
   ]
  },
  {
   "cell_type": "code",
   "execution_count": 13,
   "metadata": {},
   "outputs": [
    {
     "name": "stderr",
     "output_type": "stream",
     "text": [
      "/usr/lib/python3/dist-packages/bs4/__init__.py:198: UserWarning: \"b'.'\" looks like a filename, not markup. You should probably open this file and pass the filehandle into Beautiful Soup.\n",
      "  '\"%s\" looks like a filename, not markup. You should probably open this file and pass the filehandle into Beautiful Soup.' % markup)\n",
      "/usr/lib/python3/dist-packages/bs4/__init__.py:207: UserWarning: \"b'https://images-americanas.b2w.io/produtos/01/00/oferta/46554/9/46554981_1GG.jpg'\" looks like a URL. Beautiful Soup is not an HTTP client. You should probably use an HTTP client to get the document behind the URL, and feed that document to Beautiful Soup.\n",
      "  '\"%s\" looks like a URL. Beautiful Soup is not an HTTP client. You should probably use an HTTP client to get the document behind the URL, and feed that document to Beautiful Soup.' % markup)\n"
     ]
    }
   ],
   "source": [
    "df_copy[\"sku_ds_clean\"] = df_copy[\"sku_ds_clean\"].apply(limpa_html)"
   ]
  },
  {
   "cell_type": "markdown",
   "metadata": {},
   "source": [
    "#### Remove short words"
   ]
  },
  {
   "cell_type": "code",
   "execution_count": 14,
   "metadata": {},
   "outputs": [],
   "source": [
    "df_copy['sku_ds_clean'] = df_copy['sku_ds_clean'].apply(lambda x: ' '.join([w for w in x.split() if len(w)>3]))\n",
    "# df_copy.head()"
   ]
  },
  {
   "cell_type": "markdown",
   "metadata": {},
   "source": [
    "#### Remove pontuaçoes, números e caracteres especiais"
   ]
  },
  {
   "cell_type": "code",
   "execution_count": 15,
   "metadata": {},
   "outputs": [],
   "source": [
    "df_copy['sku_ds_clean'] = df_copy['sku_ds_clean'].str.replace(\"[^a-zA-Z#]\", \" \") \n",
    "# df_copy.head()"
   ]
  },
  {
   "cell_type": "markdown",
   "metadata": {},
   "source": [
    "#### Torna as letras minusculas"
   ]
  },
  {
   "cell_type": "code",
   "execution_count": 16,
   "metadata": {},
   "outputs": [],
   "source": [
    "df_copy[\"sku_ds_clean\"] = df_copy[\"sku_ds_clean\"].apply(lambda x: x.lower())"
   ]
  },
  {
   "cell_type": "markdown",
   "metadata": {},
   "source": [
    "#### Remove stopworks"
   ]
  },
  {
   "cell_type": "code",
   "execution_count": 17,
   "metadata": {},
   "outputs": [],
   "source": [
    "def remove_stopwords(texto):\n",
    "    texto_no_stop = \"\"\n",
    "    token_list = texto.split()\n",
    "    \n",
    "    for token in token_list:\n",
    "        if token not in stopwords.words('portuguese'):\n",
    "            texto_no_stop += token + \" \"\n",
    "    \n",
    "    return texto_no_stop"
   ]
  },
  {
   "cell_type": "code",
   "execution_count": 18,
   "metadata": {},
   "outputs": [],
   "source": [
    "df_copy[\"sku_ds_clean\"] = df_copy[\"sku_ds_clean\"].apply(remove_stopwords)"
   ]
  },
  {
   "cell_type": "markdown",
   "metadata": {},
   "source": [
    "#### Remove acentos"
   ]
  },
  {
   "cell_type": "code",
   "execution_count": 19,
   "metadata": {},
   "outputs": [],
   "source": [
    "def remove_accentuation(text):\n",
    "    if text != None:\n",
    "        return ''.join((c for c in unicodedata.normalize(\"NFD\", text) if unicodedata.category(c) != \"Mn\"))"
   ]
  },
  {
   "cell_type": "code",
   "execution_count": 20,
   "metadata": {},
   "outputs": [],
   "source": [
    "df_copy[\"sku_ds_clean\"] = df_copy[\"sku_ds_clean\"].apply(remove_accentuation)"
   ]
  },
  {
   "cell_type": "code",
   "execution_count": 21,
   "metadata": {
    "scrolled": true
   },
   "outputs": [
    {
     "data": {
      "text/html": [
       "<div>\n",
       "<style scoped>\n",
       "    .dataframe tbody tr th:only-of-type {\n",
       "        vertical-align: middle;\n",
       "    }\n",
       "\n",
       "    .dataframe tbody tr th {\n",
       "        vertical-align: top;\n",
       "    }\n",
       "\n",
       "    .dataframe thead th {\n",
       "        text-align: right;\n",
       "    }\n",
       "</style>\n",
       "<table border=\"1\" class=\"dataframe\">\n",
       "  <thead>\n",
       "    <tr style=\"text-align: right;\">\n",
       "      <th></th>\n",
       "      <th>sku_ds</th>\n",
       "      <th>product.segment_nm</th>\n",
       "      <th>sku_ds_clean</th>\n",
       "    </tr>\n",
       "  </thead>\n",
       "  <tbody>\n",
       "    <tr>\n",
       "      <th>0</th>\n",
       "      <td>Mesa Helen com tampo de vidro Cimol. Poder reu...</td>\n",
       "      <td>MÓVEIS - COZINHA, JANTAR, ÁREA DE SERVIÇO E BA...</td>\n",
       "      <td>mesa helen tampo vidro cimol poder reunir fam ...</td>\n",
       "    </tr>\n",
       "    <tr>\n",
       "      <th>1</th>\n",
       "      <td>A Capa de celular Palmeira Tropical para Moto ...</td>\n",
       "      <td>TELEFONIA</td>\n",
       "      <td>capa celular palmeira tropical moto concebida ...</td>\n",
       "    </tr>\n",
       "    <tr>\n",
       "      <th>2</th>\n",
       "      <td>&amp;lt;p&amp;gt;&amp;lt;b&amp;gt;Teclado para Notebook Hp Pav...</td>\n",
       "      <td>INFORMATICA ACESSORIOS</td>\n",
       "      <td>teclado notebook pavilion dm tx preto abnt tec...</td>\n",
       "    </tr>\n",
       "    <tr>\n",
       "      <th>3</th>\n",
       "      <td>• Boné Alpinestars Astar Rubber Logo - Branco&amp;...</td>\n",
       "      <td>FASHION - BOLSAS E ACESSORIOS</td>\n",
       "      <td>bon alpinestars astar rubber logo branco bon a...</td>\n",
       "    </tr>\n",
       "    <tr>\n",
       "      <th>4</th>\n",
       "      <td>&amp;lt;p&amp;gt;DESCRIÇÃO: A tintura Color Total Salo...</td>\n",
       "      <td>BELEZA &amp; SAUDE</td>\n",
       "      <td>descri tintura color total salon line colora p...</td>\n",
       "    </tr>\n",
       "    <tr>\n",
       "      <th>5</th>\n",
       "      <td>&amp;lt;p&amp;gt;Para complementar o visual do seu car...</td>\n",
       "      <td>AUTOMOTIVO</td>\n",
       "      <td>complementar visual carro trazer seguran voc f...</td>\n",
       "    </tr>\n",
       "    <tr>\n",
       "      <th>6</th>\n",
       "      <td>Qualidade dos nossos produtos.&amp;lt;br&amp;gt;A malh...</td>\n",
       "      <td>FASHION - ROUPA INFANTO JUVENIL</td>\n",
       "      <td>qualidade produtos malha utilizamos confec cad...</td>\n",
       "    </tr>\n",
       "    <tr>\n",
       "      <th>7</th>\n",
       "      <td>Tela Lcd Para Notebook Gateway Nv5606u</td>\n",
       "      <td>INFORMATICA ACESSORIOS</td>\n",
       "      <td>tela notebook gateway nv u</td>\n",
       "    </tr>\n",
       "    <tr>\n",
       "      <th>8</th>\n",
       "      <td>&amp;lt;p&amp;gt;Corra com muito conforto, leveza e gr...</td>\n",
       "      <td>ESPORTE &amp; LAZER - VESTUÁRIO</td>\n",
       "      <td>corra conforto leveza grande estilo t nis olym...</td>\n",
       "    </tr>\n",
       "    <tr>\n",
       "      <th>9</th>\n",
       "      <td>&amp;lt;p&amp;gt;DETALHES: Altura: 1,30 cm --- Largura...</td>\n",
       "      <td>MÓVEIS - QUARTO</td>\n",
       "      <td>detalhes altura largura profundidade espa ch e...</td>\n",
       "    </tr>\n",
       "    <tr>\n",
       "      <th>10</th>\n",
       "      <td>Branca dos Mortos e os sete zumbis, clássico u...</td>\n",
       "      <td>LIVROS INTERESSE GERAL</td>\n",
       "      <td>branca mortos sete zumbis cl ssico underground...</td>\n",
       "    </tr>\n",
       "    <tr>\n",
       "      <th>11</th>\n",
       "      <td>&amp;lt;p align=&amp;quot;justify&amp;quot;&amp;gt;Num lugar n...</td>\n",
       "      <td>LIVROS INTERESSE GERAL</td>\n",
       "      <td>lugar onde existia ilha tamanho ervilha conhe ...</td>\n",
       "    </tr>\n",
       "    <tr>\n",
       "      <th>12</th>\n",
       "      <td>Quebra-Cabeça 80 Peças Hatchimals Surpresa da ...</td>\n",
       "      <td>BRINQUEDOS</td>\n",
       "      <td>quebra cabe pe hatchimals surpresa grow forma ...</td>\n",
       "    </tr>\n",
       "    <tr>\n",
       "      <th>13</th>\n",
       "      <td>&amp;lt;p&amp;gt;&amp;lt;BR&amp;gt;&amp;lt;b&amp;gt;itens inclusos: &amp;l...</td>\n",
       "      <td>CAMA MESA &amp; BANHO</td>\n",
       "      <td>itens inclusos len ol king santista platinum l...</td>\n",
       "    </tr>\n",
       "    <tr>\n",
       "      <th>14</th>\n",
       "      <td>Papete Feminino Azaleia  Nome: Sandália Azalei...</td>\n",
       "      <td>FASHION - CALÇADOS</td>\n",
       "      <td>papete feminino azaleia nome sand lia azaleia ...</td>\n",
       "    </tr>\n",
       "    <tr>\n",
       "      <th>15</th>\n",
       "      <td>&amp;lt;p&amp;gt;Mochila Air contact  Pro 70+15 - Deut...</td>\n",
       "      <td>MALAS, MOCHILAS E ACESSÓRIOS</td>\n",
       "      <td>mochila contact deuter descri mochila airconta...</td>\n",
       "    </tr>\n",
       "    <tr>\n",
       "      <th>16</th>\n",
       "      <td>&amp;lt;p&amp;gt;Modernize a iluminação de seu ambient...</td>\n",
       "      <td>CONSTRUÇÃO &amp; FERRAMENTAS - ILUMINAÇÃO</td>\n",
       "      <td>modernize ilumina ambiente econ mico charmoso ...</td>\n",
       "    </tr>\n",
       "    <tr>\n",
       "      <th>17</th>\n",
       "      <td>Seja Bem Vindo à Zone Car Auto Parts - Auto PE...</td>\n",
       "      <td>AUTOMOTIVO</td>\n",
       "      <td>vindo zone auto parts auto pe online qualifica...</td>\n",
       "    </tr>\n",
       "    <tr>\n",
       "      <th>18</th>\n",
       "      <td>Tenis Rsv #190 Marinho Reserva</td>\n",
       "      <td>FASHION - CALÇADOS</td>\n",
       "      <td>tenis # marinho reserva</td>\n",
       "    </tr>\n",
       "    <tr>\n",
       "      <th>19</th>\n",
       "      <td>&amp;lt;p&amp;gt;Detalhes Do Produto&amp;lt;br&amp;gt;&amp;lt;br&amp;g...</td>\n",
       "      <td>FASHION - ROUPA MASCULINA</td>\n",
       "      <td>detalhes produto camisa social masculina slim ...</td>\n",
       "    </tr>\n",
       "  </tbody>\n",
       "</table>\n",
       "</div>"
      ],
      "text/plain": [
       "                                               sku_ds  \\\n",
       "0   Mesa Helen com tampo de vidro Cimol. Poder reu...   \n",
       "1   A Capa de celular Palmeira Tropical para Moto ...   \n",
       "2   &lt;p&gt;&lt;b&gt;Teclado para Notebook Hp Pav...   \n",
       "3   • Boné Alpinestars Astar Rubber Logo - Branco&...   \n",
       "4   &lt;p&gt;DESCRIÇÃO: A tintura Color Total Salo...   \n",
       "5   &lt;p&gt;Para complementar o visual do seu car...   \n",
       "6   Qualidade dos nossos produtos.&lt;br&gt;A malh...   \n",
       "7              Tela Lcd Para Notebook Gateway Nv5606u   \n",
       "8   &lt;p&gt;Corra com muito conforto, leveza e gr...   \n",
       "9   &lt;p&gt;DETALHES: Altura: 1,30 cm --- Largura...   \n",
       "10  Branca dos Mortos e os sete zumbis, clássico u...   \n",
       "11  &lt;p align=&quot;justify&quot;&gt;Num lugar n...   \n",
       "12  Quebra-Cabeça 80 Peças Hatchimals Surpresa da ...   \n",
       "13  &lt;p&gt;&lt;BR&gt;&lt;b&gt;itens inclusos: &l...   \n",
       "14  Papete Feminino Azaleia  Nome: Sandália Azalei...   \n",
       "15  &lt;p&gt;Mochila Air contact  Pro 70+15 - Deut...   \n",
       "16  &lt;p&gt;Modernize a iluminação de seu ambient...   \n",
       "17  Seja Bem Vindo à Zone Car Auto Parts - Auto PE...   \n",
       "18                     Tenis Rsv #190 Marinho Reserva   \n",
       "19  &lt;p&gt;Detalhes Do Produto&lt;br&gt;&lt;br&g...   \n",
       "\n",
       "                                   product.segment_nm  \\\n",
       "0   MÓVEIS - COZINHA, JANTAR, ÁREA DE SERVIÇO E BA...   \n",
       "1                                           TELEFONIA   \n",
       "2                              INFORMATICA ACESSORIOS   \n",
       "3                       FASHION - BOLSAS E ACESSORIOS   \n",
       "4                                      BELEZA & SAUDE   \n",
       "5                                          AUTOMOTIVO   \n",
       "6                     FASHION - ROUPA INFANTO JUVENIL   \n",
       "7                              INFORMATICA ACESSORIOS   \n",
       "8                         ESPORTE & LAZER - VESTUÁRIO   \n",
       "9                                     MÓVEIS - QUARTO   \n",
       "10                             LIVROS INTERESSE GERAL   \n",
       "11                             LIVROS INTERESSE GERAL   \n",
       "12                                         BRINQUEDOS   \n",
       "13                                  CAMA MESA & BANHO   \n",
       "14                                 FASHION - CALÇADOS   \n",
       "15                       MALAS, MOCHILAS E ACESSÓRIOS   \n",
       "16              CONSTRUÇÃO & FERRAMENTAS - ILUMINAÇÃO   \n",
       "17                                         AUTOMOTIVO   \n",
       "18                                 FASHION - CALÇADOS   \n",
       "19                          FASHION - ROUPA MASCULINA   \n",
       "\n",
       "                                         sku_ds_clean  \n",
       "0   mesa helen tampo vidro cimol poder reunir fam ...  \n",
       "1   capa celular palmeira tropical moto concebida ...  \n",
       "2   teclado notebook pavilion dm tx preto abnt tec...  \n",
       "3   bon alpinestars astar rubber logo branco bon a...  \n",
       "4   descri tintura color total salon line colora p...  \n",
       "5   complementar visual carro trazer seguran voc f...  \n",
       "6   qualidade produtos malha utilizamos confec cad...  \n",
       "7                         tela notebook gateway nv u   \n",
       "8   corra conforto leveza grande estilo t nis olym...  \n",
       "9   detalhes altura largura profundidade espa ch e...  \n",
       "10  branca mortos sete zumbis cl ssico underground...  \n",
       "11  lugar onde existia ilha tamanho ervilha conhe ...  \n",
       "12  quebra cabe pe hatchimals surpresa grow forma ...  \n",
       "13  itens inclusos len ol king santista platinum l...  \n",
       "14  papete feminino azaleia nome sand lia azaleia ...  \n",
       "15  mochila contact deuter descri mochila airconta...  \n",
       "16  modernize ilumina ambiente econ mico charmoso ...  \n",
       "17  vindo zone auto parts auto pe online qualifica...  \n",
       "18                           tenis # marinho reserva   \n",
       "19  detalhes produto camisa social masculina slim ...  "
      ]
     },
     "execution_count": 21,
     "metadata": {},
     "output_type": "execute_result"
    }
   ],
   "source": [
    "df_copy.head(20)"
   ]
  },
  {
   "cell_type": "code",
   "execution_count": 22,
   "metadata": {},
   "outputs": [
    {
     "name": "stdout",
     "output_type": "stream",
     "text": [
      "Esse processo demorou 738.844380 segundos\n"
     ]
    }
   ],
   "source": [
    "t1 = time.time()\n",
    "print(\"Esse processo demorou %f segundos\" %(t1 - t0))"
   ]
  },
  {
   "cell_type": "markdown",
   "metadata": {},
   "source": [
    "### Analise exploratória dos dados\n",
    "#### Visualizaçao dos dados com WordCloud"
   ]
  },
  {
   "cell_type": "code",
   "execution_count": 23,
   "metadata": {},
   "outputs": [],
   "source": [
    "t0 = time.time()"
   ]
  },
  {
   "cell_type": "code",
   "execution_count": 24,
   "metadata": {},
   "outputs": [
    {
     "data": {
      "image/png": "[encoded data removed]",
      "text/plain": [
       "<Figure size 720x504 with 1 Axes>"
      ]
     },
     "metadata": {
      "needs_background": "light"
     },
     "output_type": "display_data"
    }
   ],
   "source": [
    "all_words = ' '.join([text for text in df_copy['sku_ds_clean']])\n",
    "\n",
    "wordcloud = WordCloud(width=800, height=500, random_state=21, max_font_size=110).generate(all_words)\n",
    "\n",
    "plt.figure(figsize=(10, 7))\n",
    "plt.imshow(wordcloud, interpolation=\"bilinear\")\n",
    "plt.axis('off')\n",
    "plt.show()"
   ]
  },
  {
   "cell_type": "code",
   "execution_count": 25,
   "metadata": {},
   "outputs": [
    {
     "name": "stdout",
     "output_type": "stream",
     "text": [
      "Esse processo demorou 24.816920 segundos\n"
     ]
    }
   ],
   "source": [
    "t1 = time.time()\n",
    "print(\"Esse processo demorou %f segundos\" %(t1 - t0))"
   ]
  },
  {
   "cell_type": "markdown",
   "metadata": {},
   "source": [
    "#### Apos a visualização vi a necessidade de tirar \"imagens meramente ilustrativas\" pois apareciam com bastante frequência"
   ]
  },
  {
   "cell_type": "code",
   "execution_count": 26,
   "metadata": {},
   "outputs": [],
   "source": [
    "def tira_pal_inutil(text):\n",
    "    text = text.replace(\"imagens meramente ilustrativas\", \" \")\n",
    "    text = text.replace(\"imagem meramente ilustrativa\", \" \")\n",
    "    text = text.replace(\"imagems meramente ilustrativas\", \" \")\n",
    "    text = text.replace(\"imagens meramentes ilustrativas\", \" \")\n",
    "    return text    "
   ]
  },
  {
   "cell_type": "code",
   "execution_count": 27,
   "metadata": {},
   "outputs": [],
   "source": [
    "df_copy[\"sku_ds_clean\"] = df_copy[\"sku_ds_clean\"].apply(tira_pal_inutil)"
   ]
  },
  {
   "cell_type": "code",
   "execution_count": 28,
   "metadata": {},
   "outputs": [],
   "source": [
    "# matriz de dispersao\n",
    "# sb.pairplot(df_copy)"
   ]
  },
  {
   "cell_type": "code",
   "execution_count": 29,
   "metadata": {},
   "outputs": [],
   "source": [
    "# sb.pairplot(df_copy, hue='df_copy['sku_ds_clean']')"
   ]
  },
  {
   "cell_type": "markdown",
   "metadata": {},
   "source": [
    "### Tokenizacao"
   ]
  },
  {
   "cell_type": "code",
   "execution_count": 30,
   "metadata": {},
   "outputs": [],
   "source": [
    "t0 = time.time()"
   ]
  },
  {
   "cell_type": "markdown",
   "metadata": {},
   "source": [
    "#### Text normalization\n",
    "#### Tokenizing"
   ]
  },
  {
   "cell_type": "code",
   "execution_count": 31,
   "metadata": {
    "scrolled": true
   },
   "outputs": [
    {
     "name": "stdout",
     "output_type": "stream",
     "text": [
      "0        [mesa helen tampo vidro cimol poder reunir fam...\n",
      "1        [capa celular palmeira tropical moto concebida...\n",
      "2        [teclado notebook pavilion dm tx preto abnt te...\n",
      "3        [bon alpinestars astar rubber logo branco bon ...\n",
      "4        [descri tintura color total salon line colora ...\n",
      "5        [complementar visual carro trazer seguran voc ...\n",
      "6        [qualidade produtos malha utilizamos confec ca...\n",
      "7                            [tela notebook gateway nv u ]\n",
      "8        [corra conforto leveza grande estilo t nis oly...\n",
      "9        [detalhes altura largura profundidade espa ch ...\n",
      "10       [branca mortos sete zumbis cl ssico undergroun...\n",
      "11       [lugar onde existia ilha tamanho ervilha conhe...\n",
      "12       [quebra cabe pe hatchimals surpresa grow forma...\n",
      "13       [itens inclusos len ol king santista platinum ...\n",
      "14       [papete feminino azaleia nome sand lia azaleia...\n",
      "15       [mochila contact deuter descri mochila aircont...\n",
      "16       [modernize ilumina ambiente econ mico charmoso...\n",
      "17       [vindo zone auto parts auto pe online qualific...\n",
      "18                              [tenis # marinho reserva ]\n",
      "19       [detalhes produto camisa social masculina slim...\n",
      "20       [etios hatch sedan itens produto farol auxilia...\n",
      "21          [jogo x caras flor branco vermelho altura cm ]\n",
      "22       [benef cios produto prote telhado grande impor...\n",
      "23       [camisetas brancas confeccionadas malha poli s...\n",
      "24       [piscina churrasqueira sala muitos lugares ond...\n",
      "25       [elise brion suffered major head trauma before...\n",
      "26       [caracteristicas material resina inoxidavel pe...\n",
      "27       [agasalho capuz forrado alta qualidade desbota...\n",
      "28       [bota cano m dio bottero cal ado leve macio pe...\n",
      "29       [teclado original notebook g er possui certifi...\n",
      "                               ...                        \n",
      "95243    [l mpadas volkswagen compatibilidade volkswage...\n",
      "95244            [sandalia flatform papete vizzano preto ]\n",
      "95245    [bateria filmadora sony handycam ccd trv ccd t...\n",
      "95246    [chinelo feminino coca cola cc rosa claro conf...\n",
      "95247    [lembrancinha marmitinha rock n roll linda lem...\n",
      "95248    [tampa inferior bloco lp lp aplica lp mm lp mm...\n",
      "95249    [vestido festa infantil petit cherie tecido ac...\n",
      "95250    [descri t nis next vulcan casual super despoja...\n",
      "95251    [emozione casal queen pe confeccionado tecido ...\n",
      "95252    [jogo pastilha freio dianteira nakata honda ma...\n",
      "95253    [capinha personalizada moto force estampa homm...\n",
      "95254    [camiseta gola redonda manga curta running tec...\n",
      "95255    [produto estocado centros distibui prazo envio...\n",
      "95256    [possui pouca flexibilidade c f tima resist ea...\n",
      "95257    [capa personalizada premium poliuretano termop...\n",
      "95258    [alicate tra cunhas master clips voc profissio...\n",
      "95259    [jogo confeccionado m d f pe medindo embalagem...\n",
      "95260    [chinelo rasteira rasteirinha feminina marte p...\n",
      "95261             [haste astrom lia vermelha fita microp ]\n",
      "95262    [estojo triplo raybow ruby ready shine d pacif...\n",
      "95263    [casa est organizada decorada quer dizer est o...\n",
      "95264    [sapat nis casual cano baixo confeccionando ma...\n",
      "95265    [estampas produzidas alta qualidade vinil reco...\n",
      "95266    [doce perola autores paranaenses francisco soa...\n",
      "95267                                         [fume line ]\n",
      "95268    [conte embalagem fechadura porta direita trava...\n",
      "95269    [anel ouro tibetano presente especial acredita...\n",
      "95270    [t nis casual cano alto feminino confeccionado...\n",
      "95271    [informa es produto mochila rodinhas espa osa ...\n",
      "95272    [t nis infantil pin kio escolar velcro baby un...\n",
      "Name: sku_ds_clean, Length: 95273, dtype: object\n"
     ]
    }
   ],
   "source": [
    "tokenized_sku_clean = df_copy['sku_ds_clean'].apply(lambda x: x.split(\", \"))\n",
    "print(tokenized_sku_clean)"
   ]
  },
  {
   "cell_type": "markdown",
   "metadata": {},
   "source": [
    "#### Stemming"
   ]
  },
  {
   "cell_type": "code",
   "execution_count": 32,
   "metadata": {},
   "outputs": [],
   "source": [
    "stemmer = PorterStemmer() \n",
    "tokenized_sku_clean = tokenized_sku_clean.apply(lambda x: [stemmer.stem(i) for i in x])"
   ]
  },
  {
   "cell_type": "code",
   "execution_count": 33,
   "metadata": {},
   "outputs": [
    {
     "data": {
      "text/plain": [
       "0    [mesa helen tampo vidro cimol poder reunir fam...\n",
       "1    [capa celular palmeira tropical moto concebida...\n",
       "2    [teclado notebook pavilion dm tx preto abnt te...\n",
       "3    [bon alpinestars astar rubber logo branco bon ...\n",
       "4    [descri tintura color total salon line colora ...\n",
       "Name: sku_ds_clean, dtype: object"
      ]
     },
     "execution_count": 33,
     "metadata": {},
     "output_type": "execute_result"
    }
   ],
   "source": [
    "tokenized_sku_clean.head()"
   ]
  },
  {
   "cell_type": "markdown",
   "metadata": {},
   "source": [
    "#### Retorna o dado 'tokenizado' e 'stemmizado' para o data frame (como uma frase)"
   ]
  },
  {
   "cell_type": "code",
   "execution_count": 34,
   "metadata": {
    "scrolled": true
   },
   "outputs": [],
   "source": [
    "for x in range(len(tokenized_sku_clean)):\n",
    "    tokenized_sku_clean[x] = ''.join(tokenized_sku_clean[x])\n",
    "df_copy[\"sku_ds_clean\"] = tokenized_sku_clean"
   ]
  },
  {
   "cell_type": "code",
   "execution_count": 35,
   "metadata": {},
   "outputs": [
    {
     "data": {
      "text/html": [
       "<div>\n",
       "<style scoped>\n",
       "    .dataframe tbody tr th:only-of-type {\n",
       "        vertical-align: middle;\n",
       "    }\n",
       "\n",
       "    .dataframe tbody tr th {\n",
       "        vertical-align: top;\n",
       "    }\n",
       "\n",
       "    .dataframe thead th {\n",
       "        text-align: right;\n",
       "    }\n",
       "</style>\n",
       "<table border=\"1\" class=\"dataframe\">\n",
       "  <thead>\n",
       "    <tr style=\"text-align: right;\">\n",
       "      <th></th>\n",
       "      <th>sku_ds</th>\n",
       "      <th>product.segment_nm</th>\n",
       "      <th>sku_ds_clean</th>\n",
       "    </tr>\n",
       "  </thead>\n",
       "  <tbody>\n",
       "    <tr>\n",
       "      <th>0</th>\n",
       "      <td>Mesa Helen com tampo de vidro Cimol. Poder reu...</td>\n",
       "      <td>MÓVEIS - COZINHA, JANTAR, ÁREA DE SERVIÇO E BA...</td>\n",
       "      <td>mesa helen tampo vidro cimol poder reunir fam ...</td>\n",
       "    </tr>\n",
       "    <tr>\n",
       "      <th>1</th>\n",
       "      <td>A Capa de celular Palmeira Tropical para Moto ...</td>\n",
       "      <td>TELEFONIA</td>\n",
       "      <td>capa celular palmeira tropical moto concebida ...</td>\n",
       "    </tr>\n",
       "    <tr>\n",
       "      <th>2</th>\n",
       "      <td>&amp;lt;p&amp;gt;&amp;lt;b&amp;gt;Teclado para Notebook Hp Pav...</td>\n",
       "      <td>INFORMATICA ACESSORIOS</td>\n",
       "      <td>teclado notebook pavilion dm tx preto abnt tec...</td>\n",
       "    </tr>\n",
       "    <tr>\n",
       "      <th>3</th>\n",
       "      <td>• Boné Alpinestars Astar Rubber Logo - Branco&amp;...</td>\n",
       "      <td>FASHION - BOLSAS E ACESSORIOS</td>\n",
       "      <td>bon alpinestars astar rubber logo branco bon a...</td>\n",
       "    </tr>\n",
       "    <tr>\n",
       "      <th>4</th>\n",
       "      <td>&amp;lt;p&amp;gt;DESCRIÇÃO: A tintura Color Total Salo...</td>\n",
       "      <td>BELEZA &amp; SAUDE</td>\n",
       "      <td>descri tintura color total salon line colora p...</td>\n",
       "    </tr>\n",
       "  </tbody>\n",
       "</table>\n",
       "</div>"
      ],
      "text/plain": [
       "                                              sku_ds  \\\n",
       "0  Mesa Helen com tampo de vidro Cimol. Poder reu...   \n",
       "1  A Capa de celular Palmeira Tropical para Moto ...   \n",
       "2  &lt;p&gt;&lt;b&gt;Teclado para Notebook Hp Pav...   \n",
       "3  • Boné Alpinestars Astar Rubber Logo - Branco&...   \n",
       "4  &lt;p&gt;DESCRIÇÃO: A tintura Color Total Salo...   \n",
       "\n",
       "                                  product.segment_nm  \\\n",
       "0  MÓVEIS - COZINHA, JANTAR, ÁREA DE SERVIÇO E BA...   \n",
       "1                                          TELEFONIA   \n",
       "2                             INFORMATICA ACESSORIOS   \n",
       "3                      FASHION - BOLSAS E ACESSORIOS   \n",
       "4                                     BELEZA & SAUDE   \n",
       "\n",
       "                                        sku_ds_clean  \n",
       "0  mesa helen tampo vidro cimol poder reunir fam ...  \n",
       "1  capa celular palmeira tropical moto concebida ...  \n",
       "2  teclado notebook pavilion dm tx preto abnt tec...  \n",
       "3  bon alpinestars astar rubber logo branco bon a...  \n",
       "4  descri tintura color total salon line colora p...  "
      ]
     },
     "execution_count": 35,
     "metadata": {},
     "output_type": "execute_result"
    }
   ],
   "source": [
    "df_copy.head()"
   ]
  },
  {
   "cell_type": "code",
   "execution_count": 36,
   "metadata": {},
   "outputs": [
    {
     "name": "stdout",
     "output_type": "stream",
     "text": [
      "Esse processo demorou 3.300775 segundos\n"
     ]
    }
   ],
   "source": [
    "t1 = time.time()\n",
    "print(\"Esse processo demorou %f segundos\" %(t1 - t0))"
   ]
  },
  {
   "cell_type": "markdown",
   "metadata": {},
   "source": [
    "### Classificação\n",
    "\n",
    "- Decision tree e Random Forest usando o Grid Search e Cross Validation\n",
    "- Label Encoder para os segmentos\n",
    "- TF-IDF para as descricoes"
   ]
  },
  {
   "cell_type": "code",
   "execution_count": 37,
   "metadata": {},
   "outputs": [],
   "source": [
    "t0 = time.time()"
   ]
  },
  {
   "cell_type": "markdown",
   "metadata": {},
   "source": [
    "#### Extrai os dados e rótulos (product.segment_nm)"
   ]
  },
  {
   "cell_type": "code",
   "execution_count": 38,
   "metadata": {},
   "outputs": [],
   "source": [
    "all_inputs = df_copy[['sku_ds_clean']].values\n",
    "all_labels = df_copy['product.segment_nm'].values"
   ]
  },
  {
   "cell_type": "markdown",
   "metadata": {},
   "source": [
    "#### Divide os dados em treino e teste"
   ]
  },
  {
   "cell_type": "code",
   "execution_count": 39,
   "metadata": {},
   "outputs": [],
   "source": [
    "np.random.seed(7)\n",
    "\n",
    "(training_inputs,\n",
    " testing_inputs,\n",
    " training_classes,\n",
    " testing_classes) = train_test_split(all_inputs,\n",
    "                                     all_labels,\n",
    "                                     test_size=0.25,\n",
    "                                     random_state=7)"
   ]
  },
  {
   "cell_type": "markdown",
   "metadata": {},
   "source": [
    "#### Label Encoder para 'product.segment_nm'"
   ]
  },
  {
   "cell_type": "code",
   "execution_count": 40,
   "metadata": {},
   "outputs": [],
   "source": [
    "encoder = LabelEncoder()\n",
    "training_classes = encoder.fit_transform(training_classes)\n",
    "testing_classes = encoder.fit_transform(testing_classes)"
   ]
  },
  {
   "cell_type": "markdown",
   "metadata": {},
   "source": [
    "#### Vetorizacao com TF-IDF"
   ]
  },
  {
   "cell_type": "code",
   "execution_count": 41,
   "metadata": {},
   "outputs": [],
   "source": [
    "tfidf_vectorizer = TfidfVectorizer(max_df=0.5,\n",
    "                                   min_df=2,\n",
    "                                   strip_accents=\"ascii\",\n",
    "                                   analyzer=\"word\",\n",
    "                                   ngram_range=(2, 4))"
   ]
  },
  {
   "cell_type": "code",
   "execution_count": 42,
   "metadata": {
    "scrolled": true
   },
   "outputs": [],
   "source": [
    "tfidf = tfidf_vectorizer.fit_transform(df_copy[\"sku_ds_clean\"])"
   ]
  },
  {
   "cell_type": "markdown",
   "metadata": {},
   "source": [
    "#### Shape após vetorização"
   ]
  },
  {
   "cell_type": "code",
   "execution_count": 43,
   "metadata": {},
   "outputs": [
    {
     "data": {
      "text/plain": [
       "(95273, 1518023)"
      ]
     },
     "execution_count": 43,
     "metadata": {},
     "output_type": "execute_result"
    }
   ],
   "source": [
    "tfidf.shape"
   ]
  },
  {
   "cell_type": "markdown",
   "metadata": {},
   "source": [
    "#### Divisão dos dados vetorizados (distribui quanto será usado no treinamento e no teste)"
   ]
  },
  {
   "cell_type": "code",
   "execution_count": 44,
   "metadata": {},
   "outputs": [
    {
     "data": {
      "text/plain": [
       "71454"
      ]
     },
     "execution_count": 44,
     "metadata": {},
     "output_type": "execute_result"
    }
   ],
   "source": [
    "tres_quartos_tfidf = int((tfidf.shape[0]/4) * 3)\n",
    "tres_quartos_tfidf"
   ]
  },
  {
   "cell_type": "code",
   "execution_count": 45,
   "metadata": {},
   "outputs": [],
   "source": [
    "train_tfidf = tfidf[:tres_quartos_tfidf,:] \n",
    "test_tfidf =  tfidf[tres_quartos_tfidf:,:] "
   ]
  },
  {
   "cell_type": "markdown",
   "metadata": {},
   "source": [
    "#### Shape após divisao dos dados vetorizados"
   ]
  },
  {
   "cell_type": "code",
   "execution_count": 46,
   "metadata": {},
   "outputs": [
    {
     "data": {
      "text/plain": [
       "(71454, 1518023)"
      ]
     },
     "execution_count": 46,
     "metadata": {},
     "output_type": "execute_result"
    }
   ],
   "source": [
    "train_tfidf.shape"
   ]
  },
  {
   "cell_type": "code",
   "execution_count": 47,
   "metadata": {},
   "outputs": [
    {
     "name": "stdout",
     "output_type": "stream",
     "text": [
      "Esse processo demorou 52.173748 segundos\n"
     ]
    }
   ],
   "source": [
    "t1 = time.time()\n",
    "print(\"Esse processo demorou %f segundos\" %(t1 - t0))"
   ]
  },
  {
   "cell_type": "markdown",
   "metadata": {},
   "source": [
    "### Decision Tree"
   ]
  },
  {
   "cell_type": "code",
   "execution_count": 48,
   "metadata": {},
   "outputs": [],
   "source": [
    "t0 = time.time()"
   ]
  },
  {
   "cell_type": "markdown",
   "metadata": {},
   "source": [
    "#### Implementa o modelo"
   ]
  },
  {
   "cell_type": "code",
   "execution_count": 49,
   "metadata": {
    "scrolled": true
   },
   "outputs": [
    {
     "data": {
      "text/plain": [
       "0.06666946555271003"
      ]
     },
     "execution_count": 49,
     "metadata": {},
     "output_type": "execute_result"
    }
   ],
   "source": [
    "#cria o classificador\n",
    "decision_tree_classifier = DecisionTreeClassifier()\n",
    "\n",
    "#treina o classificador no conjunto de treinamentos\n",
    "decision_tree_classifier.fit(train_tfidf, training_classes)\n",
    "\n",
    "#valida o classificador no conjunto de testes\n",
    "decision_tree_classifier.score(test_tfidf, testing_classes)"
   ]
  },
  {
   "cell_type": "code",
   "execution_count": 50,
   "metadata": {},
   "outputs": [
    {
     "name": "stdout",
     "output_type": "stream",
     "text": [
      "Esse processo demorou 13373.420169 segundos\n"
     ]
    }
   ],
   "source": [
    "t1 = time.time()\n",
    "print(\"Esse processo demorou %f segundos\" %(t1 - t0))"
   ]
  },
  {
   "cell_type": "markdown",
   "metadata": {},
   "source": [
    "#### Motivacao para usar o Grid Search/Cross Validation:\n",
    "- overfitting (o modelo está aprendendo a classificar o conjunto de treinamento tão bem que não generaliza e executa bem em dados que não tinha visto antes)\n",
    "- dependendo de como o conjunto de treino e teste foi amostrado, o modelo pode atingir 80% a 100% de acuracia\n",
    "\n",
    "- ideia do grid search: explore uma variedade de parâmetros e encontre a combinação de parâmetros com melhor desempenho. Concentre sua pesquisa no melhor intervalo de parâmetros e repita esse processo várias vezes até que os melhores parâmetros sejam descobertos\n",
    "\n",
    "Obs.: com +100mil dados não consegui plotar o histogram do model_accuracies"
   ]
  },
  {
   "cell_type": "code",
   "execution_count": 51,
   "metadata": {},
   "outputs": [],
   "source": [
    "#t0 = time.time()"
   ]
  },
  {
   "cell_type": "code",
   "execution_count": 52,
   "metadata": {
    "scrolled": true
   },
   "outputs": [],
   "source": [
    "#model_accuracies = []\n",
    "\n",
    "#for repetition in range(1000):\n",
    " #   (training_inputs,\n",
    "  #   testing_inputs,\n",
    "   #  training_classes,\n",
    "    # testing_classes) = train_test_split(tfidf, all_labels, test_size=0.25)\n",
    "    \n",
    "    #decision_tree_classifier = DecisionTreeClassifier()\n",
    "    #decision_tree_classifier.fit(train_tfidf, training_classes)\n",
    "    #classifier_accuracy = decision_tree_classifier.score(test_tfidf, testing_classes)\n",
    "    #model_accuracies.append(classifier_accuracy)\n",
    "    \n",
    "#plt.hist(model_accuracies)\n",
    "#;"
   ]
  },
  {
   "cell_type": "code",
   "execution_count": 53,
   "metadata": {},
   "outputs": [],
   "source": [
    "#t1 = time.time()\n",
    "#print(\"Esse processo demorou %f segundos\" %(t1 - t0))"
   ]
  },
  {
   "cell_type": "markdown",
   "metadata": {},
   "source": [
    "#### Validacao cruzada\n",
    "Validação cruzada k-fold no modelo: divide o conjunto de dados original em k subconjuntos, usa um dos subconjuntos como o conjunto de testes e o restante dos subconjuntos como conjunto de treinamento. Esse processo é repetido k vezes, de modo que cada subconjunto seja usado como o conjunto de testes exatamente uma vez.\n",
    "\n",
    "A validação cruzada de 10 vezes é a escolha mais comum.\n",
    "\n",
    "Obs.: cada quadrado é uma entrada em nosso conjunto de dados (grafico)"
   ]
  },
  {
   "cell_type": "code",
   "execution_count": 54,
   "metadata": {},
   "outputs": [],
   "source": [
    "t0 = time.time()"
   ]
  },
  {
   "cell_type": "code",
   "execution_count": 55,
   "metadata": {},
   "outputs": [
    {
     "name": "stderr",
     "output_type": "stream",
     "text": [
      "/home/mion/.local/lib/python3.5/site-packages/sklearn/model_selection/_split.py:667: UserWarning: The least populated class in y has only 1 members, which is less than n_splits=10.\n",
      "  % (min_groups, self.n_splits)), UserWarning)\n"
     ]
    },
    {
     "data": {
      "image/png": "[encoded data removed]",
      "text/plain": [
       "<Figure size 1080x1080 with 1 Axes>"
      ]
     },
     "metadata": {
      "needs_background": "light"
     },
     "output_type": "display_data"
    }
   ],
   "source": [
    "import numpy as np\n",
    "from sklearn.model_selection import StratifiedKFold\n",
    "\n",
    "def plot_cv(cv, features, labels):\n",
    "    masks = []\n",
    "    for train, test in cv.split(features, labels):\n",
    "        mask = np.zeros(len(labels), dtype=bool)\n",
    "        mask[test] = 1\n",
    "        masks.append(mask)\n",
    "    \n",
    "    plt.figure(figsize=(15, 15))\n",
    "    plt.imshow(masks, interpolation='none', cmap='gray_r')\n",
    "    plt.ylabel('Fold')\n",
    "    plt.xlabel('Row #')\n",
    "\n",
    "plot_cv(StratifiedKFold(n_splits=10), all_inputs, all_labels)"
   ]
  },
  {
   "cell_type": "code",
   "execution_count": 56,
   "metadata": {},
   "outputs": [
    {
     "name": "stdout",
     "output_type": "stream",
     "text": [
      "Esse processo demorou 0.365986 segundos\n"
     ]
    }
   ],
   "source": [
    "t1 = time.time()\n",
    "print(\"Esse processo demorou %f segundos\" %(t1 - t0))"
   ]
  },
  {
   "cell_type": "markdown",
   "metadata": {},
   "source": [
    "#### Executa a validacao cruzada"
   ]
  },
  {
   "cell_type": "code",
   "execution_count": 57,
   "metadata": {},
   "outputs": [],
   "source": [
    "t0 = time.time()"
   ]
  },
  {
   "cell_type": "code",
   "execution_count": 58,
   "metadata": {
    "scrolled": false
   },
   "outputs": [
    {
     "name": "stderr",
     "output_type": "stream",
     "text": [
      "/home/mion/.local/lib/python3.5/site-packages/sklearn/model_selection/_split.py:667: UserWarning: The least populated class in y has only 1 members, which is less than n_splits=10.\n",
      "  % (min_groups, self.n_splits)), UserWarning)\n"
     ]
    },
    {
     "data": {
      "text/plain": [
       "Text(0.5, 1.0, 'Average score: 0.6681641308536955')"
      ]
     },
     "execution_count": 58,
     "metadata": {},
     "output_type": "execute_result"
    },
    {
     "data": {
      "image/png": "[encoded data removed]",
      "text/plain": [
       "<Figure size 432x288 with 1 Axes>"
      ]
     },
     "metadata": {
      "needs_background": "light"
     },
     "output_type": "display_data"
    }
   ],
   "source": [
    "decision_tree_classifier = DecisionTreeClassifier()\n",
    "\n",
    "# cross_val_score returns a list of the scores, which we can visualize\n",
    "# to get a reasonable estimate of our classifier's performance\n",
    "cv_scores = cross_val_score(decision_tree_classifier, \n",
    "                           tfidf,\n",
    "                           all_labels,\n",
    "                           cv=10)\n",
    "plt.hist(cv_scores)\n",
    "plt.title('Average score: {}'.format(np.mean(cv_scores)))"
   ]
  },
  {
   "cell_type": "code",
   "execution_count": 59,
   "metadata": {},
   "outputs": [
    {
     "name": "stdout",
     "output_type": "stream",
     "text": [
      "Esse processo demorou 11542.295497 segundos\n"
     ]
    }
   ],
   "source": [
    "t1 = time.time()\n",
    "print(\"Esse processo demorou %f segundos\" %(t1 - t0))"
   ]
  },
  {
   "cell_type": "markdown",
   "metadata": {},
   "source": [
    "#### Ajuste de parâmetros\n",
    "- Agora limito, muito, a profundidade do classificador e vejo que a acurácia cai muito!\n",
    "- Ou seja, me mostra a importância de usar um metodo sistemático para descobrir os melhores parâmetros para o modelo e conjunto de dados"
   ]
  },
  {
   "cell_type": "code",
   "execution_count": 60,
   "metadata": {},
   "outputs": [],
   "source": [
    "t0 = time.time()"
   ]
  },
  {
   "cell_type": "code",
   "execution_count": 61,
   "metadata": {},
   "outputs": [
    {
     "name": "stderr",
     "output_type": "stream",
     "text": [
      "/home/mion/.local/lib/python3.5/site-packages/sklearn/model_selection/_split.py:667: UserWarning: The least populated class in y has only 1 members, which is less than n_splits=10.\n",
      "  % (min_groups, self.n_splits)), UserWarning)\n"
     ]
    },
    {
     "data": {
      "text/plain": [
       "''"
      ]
     },
     "execution_count": 61,
     "metadata": {},
     "output_type": "execute_result"
    },
    {
     "data": {
      "image/png": "[encoded data removed]",
      "text/plain": [
       "<Figure size 432x288 with 1 Axes>"
      ]
     },
     "metadata": {
      "needs_background": "light"
     },
     "output_type": "display_data"
    }
   ],
   "source": [
    "decision_tree_classifier = DecisionTreeClassifier(max_depth=1)\n",
    "\n",
    "cv_scores = cross_val_score(decision_tree_classifier, tfidf, all_labels, cv=10)\n",
    "\n",
    "plt.hist(cv_scores)\n",
    "plt.title('Average score: {}'.format(np.mean(cv_scores)))\n",
    ";"
   ]
  },
  {
   "cell_type": "code",
   "execution_count": 62,
   "metadata": {},
   "outputs": [
    {
     "name": "stdout",
     "output_type": "stream",
     "text": [
      "Esse processo demorou 107.303841 segundos\n"
     ]
    }
   ],
   "source": [
    "t1 = time.time()\n",
    "print(\"Esse processo demorou %f segundos\" %(t1 - t0))"
   ]
  },
  {
   "cell_type": "markdown",
   "metadata": {},
   "source": [
    "#### Agora ajusta o classificador decision tree"
   ]
  },
  {
   "cell_type": "code",
   "execution_count": 63,
   "metadata": {},
   "outputs": [],
   "source": [
    "t0 = time.time()"
   ]
  },
  {
   "cell_type": "code",
   "execution_count": 64,
   "metadata": {},
   "outputs": [
    {
     "name": "stderr",
     "output_type": "stream",
     "text": [
      "/home/mion/.local/lib/python3.5/site-packages/sklearn/model_selection/_split.py:667: UserWarning: The least populated class in y has only 1 members, which is less than n_splits=10.\n",
      "  % (min_groups, self.n_splits)), UserWarning)\n"
     ]
    },
    {
     "name": "stdout",
     "output_type": "stream",
     "text": [
      "Best score: 0.145833541544439\n",
      "Best parameters: {'max_features': 20, 'max_depth': 5}\n"
     ]
    }
   ],
   "source": [
    "from sklearn.model_selection import GridSearchCV\n",
    "\n",
    "decision_tree_classifier = DecisionTreeClassifier()\n",
    "\n",
    "parameter_grid = {'max_depth': [1, 2, 3, 4, 5],\n",
    "                  'max_features': [5, 10, 15, 20]}\n",
    "\n",
    "# {'max_depth': [1, 2, 3, 4, 5],\n",
    "# 'max_features': [1, 2, 3, 4]\n",
    "\n",
    "cross_validation = StratifiedKFold(n_splits=10)\n",
    "\n",
    "grid_search = GridSearchCV(decision_tree_classifier,\n",
    "                           param_grid=parameter_grid,\n",
    "                           cv=cross_validation)\n",
    "\n",
    "grid_search.fit(tfidf, all_labels)\n",
    "print('Best score: {}'.format(grid_search.best_score_))\n",
    "print('Best parameters: {}'.format(grid_search.best_params_))"
   ]
  },
  {
   "cell_type": "code",
   "execution_count": 65,
   "metadata": {},
   "outputs": [
    {
     "name": "stdout",
     "output_type": "stream",
     "text": [
      "Esse processo demorou 105.306421 segundos\n"
     ]
    }
   ],
   "source": [
    "t1 = time.time()\n",
    "print(\"Esse processo demorou %f segundos\" %(t1 - t0))"
   ]
  },
  {
   "cell_type": "markdown",
   "metadata": {},
   "source": [
    "#### Visualizar em grade para ver como os parâmetros interagem"
   ]
  },
  {
   "cell_type": "code",
   "execution_count": 66,
   "metadata": {},
   "outputs": [],
   "source": [
    "# t0 = time.time()"
   ]
  },
  {
   "cell_type": "code",
   "execution_count": 67,
   "metadata": {
    "scrolled": true
   },
   "outputs": [],
   "source": [
    "#grid_visualization = grid_search.cv_results_['mean_test_score']\n",
    "#grid_visualization.shape = (1, 40)\n",
    "#sb.heatmap(grid_visualization, cmap='Blues', annot=True)\n",
    "#plt.xticks(np.arange(1) + 0.5, grid_search.param_grid['max_features'])\n",
    "#plt.yticks(np.arange(40) + 0.5, grid_search.param_grid['max_depth'])\n",
    "#plt.xlabel('max_features')\n",
    "#plt.ylabel('max_depth')\n",
    "#;"
   ]
  },
  {
   "cell_type": "code",
   "execution_count": 68,
   "metadata": {},
   "outputs": [],
   "source": [
    "# t1 = time.time()\n",
    "# print(\"Esse processo demorou %f segundos\" %(t1 - t0))"
   ]
  },
  {
   "cell_type": "markdown",
   "metadata": {},
   "source": [
    "#### Usa o grid searh para encontrar as melhores configurações para alguns parâmetros"
   ]
  },
  {
   "cell_type": "code",
   "execution_count": 69,
   "metadata": {},
   "outputs": [],
   "source": [
    "t0 = time.time()"
   ]
  },
  {
   "cell_type": "code",
   "execution_count": 70,
   "metadata": {},
   "outputs": [
    {
     "name": "stderr",
     "output_type": "stream",
     "text": [
      "/home/mion/.local/lib/python3.5/site-packages/sklearn/model_selection/_split.py:667: UserWarning: The least populated class in y has only 1 members, which is less than n_splits=10.\n",
      "  % (min_groups, self.n_splits)), UserWarning)\n"
     ]
    },
    {
     "name": "stdout",
     "output_type": "stream",
     "text": [
      "Best score: 0.14633743114822279\n",
      "Best parameters: {'max_features': 15, 'max_depth': 5, 'criterion': 'gini', 'splitter': 'best'}\n"
     ]
    }
   ],
   "source": [
    "decision_tree_classifier = DecisionTreeClassifier()\n",
    "\n",
    "parameter_grid = {'criterion': ['gini', 'entropy'],\n",
    "                 'splitter': ['best', 'random'],\n",
    "                 'max_depth': [1, 2, 3, 4, 5],\n",
    "                 'max_features': [5, 10, 15, 20]}\n",
    "\n",
    "cross_validation = StratifiedKFold(n_splits=10)\n",
    "\n",
    "grid_search = GridSearchCV(decision_tree_classifier,\n",
    "                          param_grid=parameter_grid,\n",
    "                          cv=cross_validation)\n",
    "\n",
    "grid_search.fit(tfidf, all_labels)\n",
    "\n",
    "print('Best score: {}'.format(grid_search.best_score_))\n",
    "print('Best parameters: {}'.format(grid_search.best_params_))"
   ]
  },
  {
   "cell_type": "markdown",
   "metadata": {},
   "source": [
    "#### O melhor classificador encontrado pelo grid search"
   ]
  },
  {
   "cell_type": "code",
   "execution_count": 71,
   "metadata": {},
   "outputs": [
    {
     "data": {
      "text/plain": [
       "DecisionTreeClassifier(ccp_alpha=0.0, class_weight=None, criterion='gini',\n",
       "                       max_depth=5, max_features=15, max_leaf_nodes=None,\n",
       "                       min_impurity_decrease=0.0, min_impurity_split=None,\n",
       "                       min_samples_leaf=1, min_samples_split=2,\n",
       "                       min_weight_fraction_leaf=0.0, presort='deprecated',\n",
       "                       random_state=None, splitter='best')"
      ]
     },
     "execution_count": 71,
     "metadata": {},
     "output_type": "execute_result"
    }
   ],
   "source": [
    "decision_tree_classifier = grid_search.best_estimator_\n",
    "decision_tree_classifier"
   ]
  },
  {
   "cell_type": "code",
   "execution_count": 72,
   "metadata": {},
   "outputs": [
    {
     "name": "stdout",
     "output_type": "stream",
     "text": [
      "Esse processo demorou 712.999612 segundos\n"
     ]
    }
   ],
   "source": [
    "t1 = time.time()\n",
    "print(\"Esse processo demorou %f segundos\" %(t1 - t0))"
   ]
  },
  {
   "cell_type": "markdown",
   "metadata": {},
   "source": [
    "### Random Forest"
   ]
  },
  {
   "cell_type": "markdown",
   "metadata": {},
   "source": [
    "#### Aplico o random forest passando os mesmos parâmetros"
   ]
  },
  {
   "cell_type": "code",
   "execution_count": 73,
   "metadata": {},
   "outputs": [],
   "source": [
    "t0 = time.time()"
   ]
  },
  {
   "cell_type": "code",
   "execution_count": null,
   "metadata": {},
   "outputs": [
    {
     "name": "stderr",
     "output_type": "stream",
     "text": [
      "/home/mion/.local/lib/python3.5/site-packages/sklearn/model_selection/_split.py:667: UserWarning: The least populated class in y has only 1 members, which is less than n_splits=10.\n",
      "  % (min_groups, self.n_splits)), UserWarning)\n"
     ]
    }
   ],
   "source": [
    "random_forest_classifier = RandomForestClassifier()\n",
    "\n",
    "parameter_grid = {'n_estimators': [10, 25, 50, 100],\n",
    "                  'criterion': ['gini', 'entropy'],\n",
    "                  'max_features': [5, 10, 15, 20]}\n",
    "\n",
    "cross_validation = StratifiedKFold(n_splits=10)\n",
    "\n",
    "grid_search = GridSearchCV(random_forest_classifier,\n",
    "                           param_grid=parameter_grid,\n",
    "                           cv=cross_validation)\n",
    "\n",
    "grid_search.fit(tfidf, all_labels)\n",
    "print('Best score: {}'.format(grid_search.best_score_))\n",
    "print('Best parameters: {}'.format(grid_search.best_params_))\n",
    "\n",
    "grid_search.best_estimator_"
   ]
  },
  {
   "cell_type": "code",
   "execution_count": null,
   "metadata": {},
   "outputs": [],
   "source": [
    "t1 = time.time()\n",
    "print(\"Esse processo demorou %f segundos\" %(t1 - t0))"
   ]
  },
  {
   "cell_type": "markdown",
   "metadata": {},
   "source": [
    "#### Comparando o desempenho dos dois classificadores"
   ]
  },
  {
   "cell_type": "code",
   "execution_count": null,
   "metadata": {},
   "outputs": [],
   "source": [
    "t0 = time.time()"
   ]
  },
  {
   "cell_type": "code",
   "execution_count": null,
   "metadata": {},
   "outputs": [],
   "source": [
    "random_forest_classifier = grid_search.best_estimator_\n",
    "\n",
    "rf_df = pd.DataFrame({'accuracy': cross_val_score(random_forest_classifier, tfidf, all_labels, cv=10),\n",
    "                       'classifier': ['Random Forest'] * 10})\n",
    "\n",
    "dt_df = pd.DataFrame({'accuracy': cross_val_score(decision_tree_classifier, tfidf, all_labels, cv=10),\n",
    "                      'classifier': ['Decision Tree'] * 10})\n",
    "\n",
    "both_df = rf_df.append(dt_df)\n",
    "                                                           \n",
    "sb.boxplot(x='classifier', y='accuracy', data=both_df)\n",
    "sb.stripplot(x='classifier', y='accuracy', data=both_df, jitter=True, color='black')\n",
    ";"
   ]
  },
  {
   "cell_type": "code",
   "execution_count": null,
   "metadata": {},
   "outputs": [],
   "source": [
    "t1 = time.time()\n",
    "print(\"Esse processo demorou %f segundos\" %(t1 - t0))"
   ]
  }
 ],
 "metadata": {
  "kernelspec": {
   "display_name": "Python 3",
   "language": "python",
   "name": "python3"
  },
  "language_info": {
   "codemirror_mode": {
    "name": "ipython",
    "version": 3
   },
   "file_extension": ".py",
   "mimetype": "text/x-python",
   "name": "python",
   "nbconvert_exporter": "python",
   "pygments_lexer": "ipython3",
   "version": "3.8.4rc1"
  }
 },
 "nbformat": 4,
 "nbformat_minor": 4
}
